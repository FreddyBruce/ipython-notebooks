{
 "cells": [
  {
   "cell_type": "markdown",
   "metadata": {},
   "source": [
    "# IPython Commands\n",
    "\n",
    "IPython has a syste of commands we call 'magics' that provide a mini command language that is othogoal to the syntax of Python and is extensible by the user with new commands.\n",
    "\n",
    "There are two kinds of magics, line magics - prepended by one % character and whose arguments only extend to the end of the current line - and cell magics - these use two percent characters as a marker (%%), and they receive as argument both the current line where they are declared and the whole body of the cell."
   ]
  },
  {
   "cell_type": "code",
   "execution_count": 1,
   "metadata": {
    "collapsed": true
   },
   "outputs": [],
   "source": [
    "# documentation pane with an overview of Ipython's features\n",
    "?"
   ]
  },
  {
   "cell_type": "code",
   "execution_count": 2,
   "metadata": {
    "collapsed": false
   },
   "outputs": [
    {
     "name": "stdout",
     "output_type": "stream",
     "text": [
      "PING star-mini.c10r.facebook.com (31.13.90.36): 56 data bytes\n",
      "64 bytes from 31.13.90.36: icmp_seq=0 ttl=86 time=10.915 ms\n",
      "64 bytes from 31.13.90.36: icmp_seq=1 ttl=86 time=10.456 ms\n",
      "64 bytes from 31.13.90.36: icmp_seq=2 ttl=86 time=11.110 ms\n",
      "64 bytes from 31.13.90.36: icmp_seq=3 ttl=86 time=10.188 ms\n",
      "64 bytes from 31.13.90.36: icmp_seq=4 ttl=86 time=11.045 ms\n",
      "64 bytes from 31.13.90.36: icmp_seq=5 ttl=86 time=11.640 ms\n",
      "64 bytes from 31.13.90.36: icmp_seq=6 ttl=86 time=10.091 ms\n",
      "64 bytes from 31.13.90.36: icmp_seq=7 ttl=86 time=9.887 ms\n",
      "64 bytes from 31.13.90.36: icmp_seq=8 ttl=86 time=11.748 ms\n",
      "64 bytes from 31.13.90.36: icmp_seq=9 ttl=86 time=10.464 ms\n",
      "64 bytes from 31.13.90.36: icmp_seq=10 ttl=86 time=11.501 ms\n",
      "64 bytes from 31.13.90.36: icmp_seq=11 ttl=86 time=10.948 ms\n",
      "64 bytes from 31.13.90.36: icmp_seq=12 ttl=86 time=10.134 ms\n",
      "64 bytes from 31.13.90.36: icmp_seq=13 ttl=86 time=10.911 ms\n",
      "64 bytes from 31.13.90.36: icmp_seq=14 ttl=86 time=62.257 ms\n",
      "64 bytes from 31.13.90.36: icmp_seq=15 ttl=86 time=10.364 ms\n",
      "64 bytes from 31.13.90.36: icmp_seq=16 ttl=86 time=9.754 ms\n",
      "64 bytes from 31.13.90.36: icmp_seq=17 ttl=86 time=11.379 ms\n",
      "64 bytes from 31.13.90.36: icmp_seq=18 ttl=86 time=10.232 ms\n",
      "64 bytes from 31.13.90.36: icmp_seq=19 ttl=86 time=10.056 ms\n",
      "64 bytes from 31.13.90.36: icmp_seq=20 ttl=86 time=12.206 ms\n",
      "64 bytes from 31.13.90.36: icmp_seq=21 ttl=86 time=11.023 ms\n",
      "64 bytes from 31.13.90.36: icmp_seq=22 ttl=86 time=11.754 ms\n",
      "64 bytes from 31.13.90.36: icmp_seq=23 ttl=86 time=11.447 ms\n",
      "Request timeout for icmp_seq 24\n",
      "64 bytes from 31.13.90.36: icmp_seq=25 ttl=86 time=11.588 ms\n",
      "64 bytes from 31.13.90.36: icmp_seq=26 ttl=86 time=11.298 ms\n",
      "64 bytes from 31.13.90.36: icmp_seq=27 ttl=86 time=10.871 ms\n",
      "64 bytes from 31.13.90.36: icmp_seq=28 ttl=86 time=11.635 ms\n",
      "64 bytes from 31.13.90.36: icmp_seq=29 ttl=86 time=12.635 ms\n",
      "64 bytes from 31.13.90.36: icmp_seq=30 ttl=86 time=10.624 ms\n",
      "64 bytes from 31.13.90.36: icmp_seq=31 ttl=86 time=10.889 ms\n",
      "64 bytes from 31.13.90.36: icmp_seq=32 ttl=86 time=11.070 ms\n",
      "64 bytes from 31.13.90.36: icmp_seq=33 ttl=86 time=10.988 ms\n",
      "64 bytes from 31.13.90.36: icmp_seq=34 ttl=86 time=10.407 ms\n",
      "64 bytes from 31.13.90.36: icmp_seq=35 ttl=86 time=100.834 ms\n",
      "64 bytes from 31.13.90.36: icmp_seq=36 ttl=86 time=10.758 ms\n",
      "64 bytes from 31.13.90.36: icmp_seq=37 ttl=86 time=10.283 ms\n",
      "64 bytes from 31.13.90.36: icmp_seq=38 ttl=86 time=10.862 ms\n",
      "64 bytes from 31.13.90.36: icmp_seq=39 ttl=86 time=11.246 ms\n",
      "64 bytes from 31.13.90.36: icmp_seq=40 ttl=86 time=11.375 ms\n",
      "^C\n",
      "\n",
      "--- star-mini.c10r.facebook.com ping statistics ---\n",
      "41 packets transmitted, 40 packets received, 2.4% packet loss\n",
      "round-trip min/avg/max/stddev = 9.754/14.472/100.834/15.993 ms\n"
     ]
    }
   ],
   "source": [
    "# operator to run system shell commands\n",
    "!ping www.facebook.com"
   ]
  },
  {
   "cell_type": "code",
   "execution_count": 3,
   "metadata": {
    "collapsed": true
   },
   "outputs": [],
   "source": [
    "# quick reference guide\n",
    "%quickref"
   ]
  },
  {
   "cell_type": "code",
   "execution_count": 4,
   "metadata": {
    "collapsed": true
   },
   "outputs": [],
   "source": [
    "# help module for magic commands\n",
    "%magic"
   ]
  },
  {
   "cell_type": "code",
   "execution_count": 5,
   "metadata": {
    "collapsed": false
   },
   "outputs": [
    {
     "data": {
      "application/json": {
       "cell": {
        "!": "OSMagics",
        "HTML": "Other",
        "SVG": "Other",
        "bash": "Other",
        "capture": "ExecutionMagics",
        "debug": "ExecutionMagics",
        "file": "Other",
        "html": "DisplayMagics",
        "javascript": "DisplayMagics",
        "js": "DisplayMagics",
        "latex": "DisplayMagics",
        "perl": "Other",
        "prun": "ExecutionMagics",
        "pypy": "Other",
        "python": "Other",
        "python2": "Other",
        "python3": "Other",
        "ruby": "Other",
        "script": "ScriptMagics",
        "sh": "Other",
        "svg": "DisplayMagics",
        "sx": "OSMagics",
        "system": "OSMagics",
        "time": "ExecutionMagics",
        "timeit": "ExecutionMagics",
        "writefile": "OSMagics"
       },
       "line": {
        "alias": "OSMagics",
        "alias_magic": "BasicMagics",
        "autocall": "AutoMagics",
        "automagic": "AutoMagics",
        "autosave": "KernelMagics",
        "bookmark": "OSMagics",
        "cat": "Other",
        "cd": "OSMagics",
        "clear": "KernelMagics",
        "colors": "BasicMagics",
        "config": "ConfigMagics",
        "connect_info": "KernelMagics",
        "cp": "Other",
        "debug": "ExecutionMagics",
        "dhist": "OSMagics",
        "dirs": "OSMagics",
        "doctest_mode": "BasicMagics",
        "ed": "Other",
        "edit": "KernelMagics",
        "env": "OSMagics",
        "gui": "BasicMagics",
        "hist": "Other",
        "history": "HistoryMagics",
        "killbgscripts": "ScriptMagics",
        "ldir": "Other",
        "less": "KernelMagics",
        "lf": "Other",
        "lk": "Other",
        "ll": "Other",
        "load": "CodeMagics",
        "load_ext": "ExtensionMagics",
        "loadpy": "CodeMagics",
        "logoff": "LoggingMagics",
        "logon": "LoggingMagics",
        "logstart": "LoggingMagics",
        "logstate": "LoggingMagics",
        "logstop": "LoggingMagics",
        "ls": "Other",
        "lsmagic": "BasicMagics",
        "lx": "Other",
        "macro": "ExecutionMagics",
        "magic": "BasicMagics",
        "man": "KernelMagics",
        "matplotlib": "PylabMagics",
        "mkdir": "Other",
        "more": "KernelMagics",
        "mv": "Other",
        "notebook": "BasicMagics",
        "page": "BasicMagics",
        "pastebin": "CodeMagics",
        "pdb": "ExecutionMagics",
        "pdef": "NamespaceMagics",
        "pdoc": "NamespaceMagics",
        "pfile": "NamespaceMagics",
        "pinfo": "NamespaceMagics",
        "pinfo2": "NamespaceMagics",
        "popd": "OSMagics",
        "pprint": "BasicMagics",
        "precision": "BasicMagics",
        "profile": "BasicMagics",
        "prun": "ExecutionMagics",
        "psearch": "NamespaceMagics",
        "psource": "NamespaceMagics",
        "pushd": "OSMagics",
        "pwd": "OSMagics",
        "pycat": "OSMagics",
        "pylab": "PylabMagics",
        "qtconsole": "KernelMagics",
        "quickref": "BasicMagics",
        "recall": "HistoryMagics",
        "rehashx": "OSMagics",
        "reload_ext": "ExtensionMagics",
        "rep": "Other",
        "rerun": "HistoryMagics",
        "reset": "NamespaceMagics",
        "reset_selective": "NamespaceMagics",
        "rm": "Other",
        "rmdir": "Other",
        "run": "ExecutionMagics",
        "save": "CodeMagics",
        "sc": "OSMagics",
        "set_env": "OSMagics",
        "store": "StoreMagics",
        "sx": "OSMagics",
        "system": "OSMagics",
        "tb": "ExecutionMagics",
        "time": "ExecutionMagics",
        "timeit": "ExecutionMagics",
        "unalias": "OSMagics",
        "unload_ext": "ExtensionMagics",
        "who": "NamespaceMagics",
        "who_ls": "NamespaceMagics",
        "whos": "NamespaceMagics",
        "xdel": "NamespaceMagics",
        "xmode": "BasicMagics"
       }
      },
      "text/plain": [
       "Available line magics:\n",
       "%alias  %alias_magic  %autocall  %automagic  %autosave  %bookmark  %cat  %cd  %clear  %colors  %config  %connect_info  %cp  %debug  %dhist  %dirs  %doctest_mode  %ed  %edit  %env  %gui  %hist  %history  %killbgscripts  %ldir  %less  %lf  %lk  %ll  %load  %load_ext  %loadpy  %logoff  %logon  %logstart  %logstate  %logstop  %ls  %lsmagic  %lx  %macro  %magic  %man  %matplotlib  %mkdir  %more  %mv  %notebook  %page  %pastebin  %pdb  %pdef  %pdoc  %pfile  %pinfo  %pinfo2  %popd  %pprint  %precision  %profile  %prun  %psearch  %psource  %pushd  %pwd  %pycat  %pylab  %qtconsole  %quickref  %recall  %rehashx  %reload_ext  %rep  %rerun  %reset  %reset_selective  %rm  %rmdir  %run  %save  %sc  %set_env  %store  %sx  %system  %tb  %time  %timeit  %unalias  %unload_ext  %who  %who_ls  %whos  %xdel  %xmode\n",
       "\n",
       "Available cell magics:\n",
       "%%!  %%HTML  %%SVG  %%bash  %%capture  %%debug  %%file  %%html  %%javascript  %%js  %%latex  %%perl  %%prun  %%pypy  %%python  %%python2  %%python3  %%ruby  %%script  %%sh  %%svg  %%sx  %%system  %%time  %%timeit  %%writefile\n",
       "\n",
       "Automagic is ON, % prefix IS NOT needed for line magics."
      ]
     },
     "execution_count": 5,
     "metadata": {},
     "output_type": "execute_result"
    }
   ],
   "source": [
    "# list all available magic commands\n",
    "%lsmagic"
   ]
  },
  {
   "cell_type": "code",
   "execution_count": 7,
   "metadata": {
    "collapsed": true
   },
   "outputs": [],
   "source": [
    "# bring up the help module for a specific command\n",
    "%cd?"
   ]
  },
  {
   "cell_type": "code",
   "execution_count": 8,
   "metadata": {
    "collapsed": false
   },
   "outputs": [
    {
     "name": "stdout",
     "output_type": "stream",
     "text": [
      "Hello World\n"
     ]
    }
   ],
   "source": [
    "# run a python script within the notebook\n",
    "%run scripts/helloworld"
   ]
  },
  {
   "cell_type": "code",
   "execution_count": 9,
   "metadata": {
    "collapsed": false
   },
   "outputs": [
    {
     "name": "stderr",
     "output_type": "stream",
     "text": [
      "ERROR:root:No traceback has been produced, nothing to debug.\n"
     ]
    }
   ],
   "source": [
    "# debug a statement either in-line or after the fact\n",
    "%debug"
   ]
  },
  {
   "cell_type": "code",
   "execution_count": 13,
   "metadata": {
    "collapsed": false
   },
   "outputs": [
    {
     "name": "stdout",
     "output_type": "stream",
     "text": [
      "The slowest run took 6.10 times longer than the fastest. This could mean that an intermediate result is being cached.\n",
      "100 loops, best of 3: 5.72 ms per loop\n"
     ]
    }
   ],
   "source": [
    "# time the execution on a statement\n",
    "import numpy as np\n",
    "%timeit np.linalg.eigvals(np.random.rand(100, 100))"
   ]
  },
  {
   "cell_type": "code",
   "execution_count": 16,
   "metadata": {
    "collapsed": false
   },
   "outputs": [
    {
     "name": "stdout",
     "output_type": "stream",
     "text": [
      "# documentation pane with an overview of Ipython's features\n",
      "?\n",
      "# operator to run system shell commands\n",
      "!ping www.facebook.com\n",
      "# quick reference guide\n",
      "%quickref\n",
      "# help module for magic commands\n",
      "%magic\n",
      "# list all available magic commands\n",
      "%lsmagic\n",
      "# bring up the help module for a specific command\n",
      "# bring up the help module for a specific command\n",
      "%cd?\n",
      "# run a python script within the notebook\n",
      "%run scripts/helloworld\n",
      "# debug a statement either in-line or after the fact\n",
      "%debug\n",
      "# time the execution on a statement\n",
      "# time the execution on a statement\n",
      "import numpy as np\n",
      "%timeit np.linalg.eigvals(np.random.rand(100, 50))\n",
      "# time the execution on a statement\n",
      "import numpy as np\n",
      "%timeit np.linalg.eigvals(np.random.rand(100, 50))\n",
      "# time the execution on a statement\n",
      "import numpy as np\n",
      "%timeit np.linalg.eigvals(np.random.rand(100, 100))\n",
      "# additional magic can be loaded using load_ext\n",
      "%load_ext Cython\n",
      "# list all environment variables or specific variables\n",
      "%env SYSTEMROOT\n",
      "# print the cache of previously executed commands\n",
      "%history\n"
     ]
    }
   ],
   "source": [
    "# print the cache of previously executed commands\n",
    "%history"
   ]
  },
  {
   "cell_type": "code",
   "execution_count": 17,
   "metadata": {
    "collapsed": false
   },
   "outputs": [
    {
     "name": "stdout",
     "output_type": "stream",
     "text": [
      " \u001b[0murllib\u001b[0m\u001b[0;34m.\u001b[0m\u001b[0murlopen\u001b[0m\u001b[0;34m(\u001b[0m\u001b[0murl\u001b[0m\u001b[0;34m,\u001b[0m \u001b[0mdata\u001b[0m\u001b[0;34m=\u001b[0m\u001b[0mNone\u001b[0m\u001b[0;34m,\u001b[0m \u001b[0mproxies\u001b[0m\u001b[0;34m=\u001b[0m\u001b[0mNone\u001b[0m\u001b[0;34m,\u001b[0m \u001b[0mcontext\u001b[0m\u001b[0;34m=\u001b[0m\u001b[0mNone\u001b[0m\u001b[0;34m)\u001b[0m\u001b[0;34m\u001b[0m\u001b[0m\n",
      " "
     ]
    }
   ],
   "source": [
    "# print the call signature for any object\n",
    "import urllib\n",
    "%pdef urllib.urlopen"
   ]
  },
  {
   "cell_type": "code",
   "execution_count": 18,
   "metadata": {
    "collapsed": true
   },
   "outputs": [],
   "source": [
    "# print the docstring for a class/callable object\n",
    "%pdoc urllib"
   ]
  },
  {
   "cell_type": "code",
   "execution_count": 19,
   "metadata": {
    "collapsed": false
   },
   "outputs": [
    {
     "name": "stdout",
     "output_type": "stream",
     "text": [
      "np\t urllib\t \n"
     ]
    }
   ],
   "source": [
    "# print all interactive variables\n",
    "%who"
   ]
  },
  {
   "cell_type": "code",
   "execution_count": 20,
   "metadata": {
    "collapsed": false
   },
   "outputs": [
    {
     "name": "stdout",
     "output_type": "stream",
     "text": [
      "Variable   Type      Data/Info\n",
      "------------------------------\n",
      "np         module    <module 'numpy' from '/Li<...>ages/numpy/__init__.pyc'>\n",
      "urllib     module    <module 'urllib' from '/L<...>ib/python2.7/urllib.pyc'>\n"
     ]
    }
   ],
   "source": [
    "# same as who but more information\n",
    "%whos"
   ]
  },
  {
   "cell_type": "code",
   "execution_count": null,
   "metadata": {
    "collapsed": true
   },
   "outputs": [],
   "source": []
  }
 ],
 "metadata": {
  "kernelspec": {
   "display_name": "Python 2",
   "language": "python",
   "name": "python2"
  },
  "language_info": {
   "codemirror_mode": {
    "name": "ipython",
    "version": 2
   },
   "file_extension": ".py",
   "mimetype": "text/x-python",
   "name": "python",
   "nbconvert_exporter": "python",
   "pygments_lexer": "ipython2",
   "version": "2.7.12"
  }
 },
 "nbformat": 4,
 "nbformat_minor": 1
}
